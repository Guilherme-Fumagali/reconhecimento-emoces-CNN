{
 "cells": [
  {
   "cell_type": "code",
   "execution_count": 3,
   "metadata": {},
   "outputs": [],
   "source": [
    "import cv2\n",
    "import os\n",
    "import pandas as pd"
   ]
  },
  {
   "cell_type": "code",
   "execution_count": 23,
   "metadata": {},
   "outputs": [
    {
     "data": {
      "text/html": [
       "<div>\n",
       "<style scoped>\n",
       "    .dataframe tbody tr th:only-of-type {\n",
       "        vertical-align: middle;\n",
       "    }\n",
       "\n",
       "    .dataframe tbody tr th {\n",
       "        vertical-align: top;\n",
       "    }\n",
       "\n",
       "    .dataframe thead th {\n",
       "        text-align: right;\n",
       "    }\n",
       "</style>\n",
       "<table border=\"1\" class=\"dataframe\">\n",
       "  <thead>\n",
       "    <tr style=\"text-align: right;\">\n",
       "      <th></th>\n",
       "      <th>pixels</th>\n",
       "      <th>class</th>\n",
       "    </tr>\n",
       "  </thead>\n",
       "  <tbody>\n",
       "  </tbody>\n",
       "</table>\n",
       "</div>"
      ],
      "text/plain": [
       "Empty DataFrame\n",
       "Columns: [pixels, class]\n",
       "Index: []"
      ]
     },
     "execution_count": 23,
     "metadata": {},
     "output_type": "execute_result"
    }
   ],
   "source": [
    "classes = {\n",
    "    0: 'neutral',\n",
    "    1: 'happy',\n",
    "    2: 'sad',\n",
    "    3: 'surprise',\n",
    "    4: 'fear',\n",
    "    5: 'disgust',\n",
    "    6: 'anger',\n",
    "    7: 'contempt',\n",
    "    8: 'none',\n",
    "    9: 'uncertain',\n",
    "    10: 'no-face'    \n",
    "}\n",
    "\n",
    "def FER_2013_to_DataFrame(path):\n",
    "    df = pd.DataFrame(columns=['pixels', 'class'])\n",
    "    \n",
    "\n",
    "    df.to_csv(path + 'fer_2013.csv', index=False)\n",
    "    return df\n",
    "\n",
    "dir = './Datasets_processed/FER-2013/'\n",
    "FER_2013_to_DataFrame(dir)"
   ]
  }
 ],
 "metadata": {
  "kernelspec": {
   "display_name": "base",
   "language": "python",
   "name": "python3"
  },
  "language_info": {
   "codemirror_mode": {
    "name": "ipython",
    "version": 3
   },
   "file_extension": ".py",
   "mimetype": "text/x-python",
   "name": "python",
   "nbconvert_exporter": "python",
   "pygments_lexer": "ipython3",
   "version": "3.9.13"
  },
  "orig_nbformat": 4,
  "vscode": {
   "interpreter": {
    "hash": "a8380519a6c644003ffca30af65c794667bbb9798354a9d5b163ab4abff1c050"
   }
  }
 },
 "nbformat": 4,
 "nbformat_minor": 2
}
