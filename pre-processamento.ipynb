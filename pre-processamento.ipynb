{
 "cells": [
  {
   "cell_type": "code",
   "execution_count": null,
   "metadata": {},
   "outputs": [],
   "source": [
    "import cv2\n",
    "import os\n",
    "import shutil"
   ]
  },
  {
   "cell_type": "code",
   "execution_count": null,
   "metadata": {},
   "outputs": [],
   "source": [
    "def show_image(img, name='image'):\n",
    "    cv2.imshow(name, img)\n",
    "    cv2.waitKey(0)\n",
    "    cv2.destroyAllWindows()\n",
    "\n",
    "def pre_processing(img, debug=False):\n",
    "    if debug:\n",
    "        show_image(img, 'original')\n",
    "    \n",
    "    # Convert to grayscale\n",
    "    img = cv2.cvtColor(img, cv2.COLOR_BGR2GRAY)\n",
    "    if debug:\n",
    "        show_image(img, 'gray')\n",
    "    \n",
    "    # Remove noise\n",
    "    img = cv2.GaussianBlur(img, (5, 5), 0)\n",
    "    if debug:\n",
    "        show_image(img, 'blur')\n",
    "\n",
    "    # Resize image to 48x48\n",
    "    img = cv2.resize(img, (48, 48), interpolation=cv2.INTER_CUBIC)\n",
    "    if debug:\n",
    "        show_image(img, 'resize')\n",
    "\n",
    "    # Apply histogram equalization\n",
    "    img = cv2.equalizeHist(img)\n",
    "    if debug:       \n",
    "        show_image(img, 'equalize')\n",
    "  \n",
    "    return img"
   ]
  },
  {
   "cell_type": "code",
   "execution_count": null,
   "metadata": {},
   "outputs": [],
   "source": [
    "img = cv2.imread('./Datasets/AffectNet/val_set/images/223.jpg')\n",
    "pre_processing(img, debug=True)"
   ]
  },
  {
   "cell_type": "code",
   "execution_count": null,
   "metadata": {},
   "outputs": [],
   "source": [
    "def clone_dir(src_dir, dst_dir):\n",
    "    # Create destination directory\n",
    "    if os.path.exists(dst_dir):\n",
    "        shutil.rmtree(dst_dir)\n",
    "    os.makedirs(dst_dir)\n",
    "\n",
    "    # Clone source directory\n",
    "    for subdir, dirs, files in os.walk(src_dir):\n",
    "        for file in files:\n",
    "            src_file = os.path.join(subdir, file)\n",
    "            dst_file = src_file.replace(src_dir, dst_dir)\n",
    "            dst_subdir = os.path.dirname(dst_file)\n",
    "            if not os.path.exists(dst_subdir):\n",
    "                os.makedirs(dst_subdir)\n",
    "            shutil.copyfile(src_file, dst_file)\n",
    "\n",
    "\n",
    "def pre_process_images_in_dir(dir):\n",
    "    for subdir, dirs, files in os.walk(dir):\n",
    "        for file in files:\n",
    "            if not file.endswith('.jpg'):\n",
    "                continue\n",
    "            img = cv2.imread(os.path.join(subdir, file))\n",
    "            img = pre_processing(img)\n",
    "            cv2.imwrite(os.path.join(subdir, file), img)\n",
    "\n",
    "def pre_process_datasets(src_dir, dst_dir):\n",
    "    clone_dir(src_dir, dst_dir)\n",
    "    pre_process_images_in_dir(dst_dir)"
   ]
  },
  {
   "cell_type": "code",
   "execution_count": null,
   "metadata": {},
   "outputs": [],
   "source": [
    "pre_process_datasets('./Datasets', './Datasets_processed')"
   ]
  }
 ],
 "metadata": {
  "kernelspec": {
   "display_name": "base",
   "language": "python",
   "name": "python3"
  },
  "language_info": {
   "codemirror_mode": {
    "name": "ipython",
    "version": 3
   },
   "file_extension": ".py",
   "mimetype": "text/x-python",
   "name": "python",
   "nbconvert_exporter": "python",
   "pygments_lexer": "ipython3",
   "version": "3.9.13"
  },
  "orig_nbformat": 4,
  "vscode": {
   "interpreter": {
    "hash": "a8380519a6c644003ffca30af65c794667bbb9798354a9d5b163ab4abff1c050"
   }
  }
 },
 "nbformat": 4,
 "nbformat_minor": 2
}
