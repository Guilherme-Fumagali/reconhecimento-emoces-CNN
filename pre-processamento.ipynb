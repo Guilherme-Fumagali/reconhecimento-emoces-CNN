{
 "cells": [
  {
   "cell_type": "code",
   "execution_count": 5,
   "metadata": {},
   "outputs": [],
   "source": [
    "import cv2\n",
    "import os\n",
    "import shutil"
   ]
  },
  {
   "cell_type": "code",
   "execution_count": 6,
   "metadata": {},
   "outputs": [],
   "source": [
    "def show_image(img, name='image'):\n",
    "    cv2.imshow(name, img)\n",
    "    cv2.waitKey(0)\n",
    "    cv2.destroyAllWindows()\n",
    "\n",
    "def pre_processing(img, debug=False):\n",
    "    if debug:\n",
    "        show_image(img, 'original')\n",
    "    \n",
    "    # Convert to grayscale\n",
    "    img = cv2.cvtColor(img, cv2.COLOR_BGR2GRAY)\n",
    "    if debug:\n",
    "        show_image(img, 'gray')\n",
    "    \n",
    "    # Remove noise\n",
    "    img = cv2.GaussianBlur(img, (5, 5), 0)\n",
    "    if debug:\n",
    "        show_image(img, 'blur')\n",
    "\n",
    "    # Resize image to 48x48\n",
    "    img = cv2.resize(img, (48, 48), interpolation=cv2.INTER_CUBIC)\n",
    "    if debug:\n",
    "        show_image(img, 'resize')\n",
    "\n",
    "    # Apply histogram equalization\n",
    "    img = cv2.equalizeHist(img)\n",
    "    if debug:       \n",
    "        show_image(img, 'equalize')\n",
    "  \n",
    "    return img"
   ]
  },
  {
   "cell_type": "code",
   "execution_count": null,
   "metadata": {},
   "outputs": [],
   "source": [
    "img = cv2.imread('./Datasets/AffectNet/val_set/images/223.jpg')\n",
    "pre_processing(img, debug=True)"
   ]
  },
  {
   "cell_type": "code",
   "execution_count": 8,
   "metadata": {},
   "outputs": [],
   "source": [
    "def pre_process_datasets(src_dir, dst_dir, verbose=False):\n",
    "    # Create destination directory\n",
    "    if os.path.exists(dst_dir):\n",
    "        if verbose:\n",
    "            print(f'Removing directory: {dst_dir}')\n",
    "        shutil.rmtree(dst_dir)\n",
    "    os.makedirs(dst_dir)\n",
    "    if verbose:\n",
    "        print(f'Created directory: {dst_dir}')\n",
    "\n",
    "    # Clone source directory\n",
    "    for subdir, _, files in os.walk(src_dir):\n",
    "        if verbose:\n",
    "            print(f'Processing directory: {subdir}')\n",
    "        for file in files:  \n",
    "            src_file = os.path.join(subdir, file)\n",
    "            dst_file = src_file.replace(src_dir, dst_dir)\n",
    "            dst_subdir = os.path.dirname(dst_file)\n",
    "            if not os.path.exists(dst_subdir):\n",
    "                os.makedirs(dst_subdir)\n",
    "            if file.endswith('.jpg') or file.endswith('.png'):\n",
    "                img = pre_process_image_in_path(src_file)\n",
    "                cv2.imwrite(dst_file, img)\n",
    "            else:\n",
    "                shutil.copyfile(src_file, dst_file)\n",
    "\n",
    "def pre_process_image_in_path(path):\n",
    "    img = cv2.imread(path)\n",
    "    img = pre_processing(img)\n",
    "    return img"
   ]
  },
  {
   "cell_type": "code",
   "execution_count": 9,
   "metadata": {},
   "outputs": [
    {
     "name": "stdout",
     "output_type": "stream",
     "text": [
      "Removing directory: ./Datasets_processed\n",
      "Created directory: ./Datasets_processed\n",
      "Processing directory: ./Datasets\n",
      "Processing directory: ./Datasets/FER-2013\n",
      "Processing directory: ./Datasets/FER-2013/train\n",
      "Processing directory: ./Datasets/FER-2013/train/angry\n",
      "Processing directory: ./Datasets/FER-2013/train/disgusted\n",
      "Processing directory: ./Datasets/FER-2013/train/fearful\n",
      "Processing directory: ./Datasets/FER-2013/train/happy\n",
      "Processing directory: ./Datasets/FER-2013/train/neutral\n",
      "Processing directory: ./Datasets/FER-2013/train/sad\n",
      "Processing directory: ./Datasets/FER-2013/train/surprised\n",
      "Processing directory: ./Datasets/FER-2013/test\n",
      "Processing directory: ./Datasets/FER-2013/test/angry\n",
      "Processing directory: ./Datasets/FER-2013/test/disgusted\n",
      "Processing directory: ./Datasets/FER-2013/test/fearful\n",
      "Processing directory: ./Datasets/FER-2013/test/happy\n",
      "Processing directory: ./Datasets/FER-2013/test/neutral\n",
      "Processing directory: ./Datasets/FER-2013/test/sad\n",
      "Processing directory: ./Datasets/FER-2013/test/surprised\n",
      "Processing directory: ./Datasets/AffectNet\n",
      "Processing directory: ./Datasets/AffectNet/val_set\n",
      "Processing directory: ./Datasets/AffectNet/val_set/images\n",
      "Processing directory: ./Datasets/AffectNet/val_set/annotations\n",
      "Processing directory: ./Datasets/AffectNet/train_set\n",
      "Processing directory: ./Datasets/AffectNet/train_set/images\n",
      "Processing directory: ./Datasets/AffectNet/train_set/annotations\n"
     ]
    }
   ],
   "source": [
    "pre_process_datasets('./Datasets', './Datasets_processed', verbose=True)"
   ]
  }
 ],
 "metadata": {
  "kernelspec": {
   "display_name": "base",
   "language": "python",
   "name": "python3"
  },
  "language_info": {
   "codemirror_mode": {
    "name": "ipython",
    "version": 3
   },
   "file_extension": ".py",
   "mimetype": "text/x-python",
   "name": "python",
   "nbconvert_exporter": "python",
   "pygments_lexer": "ipython3",
   "version": "3.9.13"
  },
  "orig_nbformat": 4,
  "vscode": {
   "interpreter": {
    "hash": "a8380519a6c644003ffca30af65c794667bbb9798354a9d5b163ab4abff1c050"
   }
  }
 },
 "nbformat": 4,
 "nbformat_minor": 2
}
